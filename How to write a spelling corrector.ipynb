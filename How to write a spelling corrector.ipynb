{
 "cells": [
  {
   "cell_type": "markdown",
   "metadata": {},
   "source": [
    "# How to write a spelling corrector\n",
    "Marco Herrero <me@marhs.de> \n",
    "(Original idea by Peter Norvig)\n",
    "\n",
    "### Goal\n",
    "Let's try to write a function called `correct(word)`\n",
    "\n",
    "```\n",
    ">>> correct('madriz')\n",
    "'madrid'\n",
    "```"
   ]
  },
  {
   "cell_type": "code",
   "execution_count": 7,
   "metadata": {
    "collapsed": false
   },
   "outputs": [],
   "source": [
    "def correct(word):\n",
    "    possible_corrections = []  # ??\n",
    "    return best_correction  # ??"
   ]
  },
  {
   "cell_type": "markdown",
   "metadata": {},
   "source": [
    "To define this function, we need to resolve two problems:\n",
    "\n",
    "1. Given a word, which are the possible corrections of that word?\n",
    "```\n",
    "word = 'lates'\n",
    "possible_corrections = ['late', 'latest']\n",
    "```\n",
    "\n",
    "2. Given a set of corrections, which one is the most likely to be the intended?\n",
    "```\n",
    "best_correction = late\n",
    "```\n",
    "\n",
    "Let's try to use probability to solve both problems\n",
    "\n",
    "## A little probability theory\n",
    "\n",
    "Given a word, we are trying to choose the most likely spelling correction for that word (could be the original word!). There is no way to know for sure, so we are going to use probabilites. We are trying to find the correction __c__ that maximizes the probability of __c__ given the original word __w__:\n",
    "\n",
    "argmax<sub>c</sub> = P(c|w)\n",
    "\n",
    "By Bayes' Theorem this is equivalent to:\n",
    "\n",
    "argmax<sub>c</sub> = P(w|c) P(c)<del> / P(w)</del>  \n",
    "\n",
    "There are three parts of this expression:    \n",
    "1. _P(c)_: __Language model__: P(c): The probability of a correction stands on its own.\n",
    "2. _P(w|c)_: __Error model__: The probability that given a word w, the author meant c. Error model.\n",
    "3. _argmax<sub>x</sub>_: Control mechanism. Enumerate all feasible values of c and choose the one that gives the __best probability score__.\n",
    "\n",
    "P(w) is useless because is the same for every possible c.\n",
    "\n",
    "### Language model\n",
    "\n",
    "Let's say that the probability that a correction __c__ is the valid one is the same that the probability of a word __c__ appears in an text. In and english text:  \n",
    "\n",
    "__P(\"the\")__ > __P(\"coriander\")__ > __P(\"xxyxyxxxy\")__\n",
    "\n",
    "To user that, let's make a default dictionary with each word and it's probability given a text. "
   ]
  },
  {
   "cell_type": "code",
   "execution_count": 27,
   "metadata": {
    "collapsed": false
   },
   "outputs": [
    {
     "data": {
      "text/plain": [
       "defaultdict(<function __main__.<lambda>>,\n",
       "            {'al': 2,\n",
       "             'como': 2,\n",
       "             'de': 2,\n",
       "             'el': 2,\n",
       "             'estais': 2,\n",
       "             'estirpe': 2,\n",
       "             'estrellas': 2,\n",
       "             'ganado': 2,\n",
       "             'guardian': 2,\n",
       "             'las': 2,\n",
       "             'mantener': 2,\n",
       "             'mi': 2,\n",
       "             'para': 2,\n",
       "             'sol': 2,\n",
       "             'usando': 2,\n",
       "             'vivo': 2})"
      ]
     },
     "execution_count": 27,
     "metadata": {},
     "output_type": "execute_result"
    }
   ],
   "source": [
    "import re, collections\n",
    "\n",
    "def words(text):\n",
    "    return re.findall('[a-z]+', text.lower())\n",
    "    \n",
    "def train(features):\n",
    "    model = collections.defaultdict(lambda: 1)\n",
    "    for f in features:\n",
    "        model[f] += 1\n",
    "    return model\n",
    "\n",
    "train(words(\"\"\"Estais utilizando mi estirpe como ganado \n",
    "               para mantener al sol vivo.\n",
    "               \n",
    "                        El guardian de las estrellas\n",
    "            \"\"\"))"
   ]
  },
  {
   "cell_type": "markdown",
   "metadata": {},
   "source": [
    "If we use a really big text like a book, we can get a good __language model__. Keep in mind that we are not working with any language, so the language model is extracting knowledge of a specific language of a text. __I DONT LIKE THIS__  "
   ]
  },
  {
   "cell_type": "code",
   "execution_count": 29,
   "metadata": {
    "collapsed": false
   },
   "outputs": [],
   "source": [
    "NWORDS = train(words(open('data/conde_montecristo.txt', 'r').read()))"
   ]
  },
  {
   "cell_type": "markdown",
   "metadata": {},
   "source": [
    "At this point _NWORDS[**w**]_ holds a count of how many times the word __w__ has been seen."
   ]
  },
  {
   "cell_type": "code",
   "execution_count": null,
   "metadata": {
    "collapsed": true,
    "scrolled": true
   },
   "outputs": [],
   "source": [
    "import re, collections\n",
    "\n",
    "def words(text): return re.findall('[a-z]+', text.lower()) \n",
    "\n",
    "def train(features):\n",
    "    model = collections.defaultdict(lambda: 1)\n",
    "    for f in features:\n",
    "        model[f] += 1\n",
    "    return model\n",
    "\n",
    "NWORDS = train(words(file('conde_montecristo.txt').read()))\n",
    "# NWORDS = train(words(file('big.txt').read()))\n",
    "\n",
    "alphabet = 'abcdefghijklmnopqrstuvwxyz'\n",
    "\n",
    "def edits1(word):\n",
    "   splits     = [(word[:i], word[i:]) for i in range(len(word) + 1)]\n",
    "   deletes    = [a + b[1:] for a, b in splits if b]\n",
    "   transposes = [a + b[1] + b[0] + b[2:] for a, b in splits if len(b)>1]\n",
    "   replaces   = [a + c + b[1:] for a, b in splits for c in alphabet if b]\n",
    "   inserts    = [a + c + b     for a, b in splits for c in alphabet]\n",
    "   return set(deletes + transposes + replaces + inserts)\n",
    "\n",
    "def known_edits2(word):\n",
    "    return set(e2 for e1 in edits1(word) for e2 in edits1(e1) if e2 in NWORDS)\n",
    "\n",
    "def known(words): return set(w for w in words if w in NWORDS)\n",
    "\n",
    "def correct(word):\n",
    "    candidates = known([word]) or known(edits1(word)) or known_edits2(word) or [word]\n",
    "    return max(candidates, key=NWORDS.get)"
   ]
  },
  {
   "cell_type": "code",
   "execution_count": 7,
   "metadata": {
    "collapsed": false,
    "scrolled": true
   },
   "outputs": [
    {
     "data": {
      "text/plain": [
       "'criado'"
      ]
     },
     "execution_count": 7,
     "metadata": {},
     "output_type": "execute_result"
    }
   ],
   "source": [
    "correct('cspado')"
   ]
  }
 ],
 "metadata": {
  "celltoolbar": "Raw Cell Format",
  "kernelspec": {
   "display_name": "Python 2",
   "language": "python",
   "name": "python2"
  },
  "language_info": {
   "codemirror_mode": {
    "name": "ipython",
    "version": 2
   },
   "file_extension": ".py",
   "mimetype": "text/x-python",
   "name": "python",
   "nbconvert_exporter": "python",
   "pygments_lexer": "ipython2",
   "version": "2.7.9"
  }
 },
 "nbformat": 4,
 "nbformat_minor": 0
}
